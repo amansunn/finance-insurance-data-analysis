{
 "cells": [
  {
   "cell_type": "markdown",
   "metadata": {},
   "source": [
    "# Exploratory Data Analysis (EDA)\n",
    "This notebook covers all required EDA steps for the finance and insurance data project."
   ]
  },
  {
   "cell_type": "code",
   "execution_count": null,
   "metadata": {},
   "outputs": [],
   "source": [
    "import sys\n",
    "import os\n",
    "import pandas as pd\n",
    "import matplotlib.pyplot as plt\n",
    "import seaborn as sns\n",
    "\n",
    "# Add the project root or parent directory to sys.path so 'src' can be imported\n",
    "sys.path.append(os.path.abspath(os.path.join(os.pardir)))\n",
    "\n",
    "from src import eda, utils\n",
    "\n",
    "data = utils.load_data('../data/raw/MachineLearningRating_v3.txt')\n",
    "data = eda.calculate_loss_ratio(data)"
   ]
  },
  {
   "cell_type": "code",
   "execution_count": null,
   "metadata": {},
   "outputs": [],
   "source": [
    "import sys\n",
    "import os\n",
    "sys.path.append(os.path.abspath(os.path.join(os.getcwd(), '..')))"
   ]
  },
  {
   "cell_type": "markdown",
   "metadata": {},
   "source": [
    "## Data Structure and Quality Assessment"
   ]
  },
  {
   "cell_type": "code",
   "execution_count": null,
   "metadata": {},
   "outputs": [],
   "source": [
    "print('Data types:')\n",
    "print(eda.review_data_types(data))\n",
    "print('Missing values:')\n",
    "print(eda.check_missing_values(data))"
   ]
  },
  {
   "cell_type": "markdown",
   "metadata": {},
   "source": [
    "## Descriptive Statistics"
   ]
  },
  {
   "cell_type": "code",
   "execution_count": null,
   "metadata": {},
   "outputs": [],
   "source": [
    "print(eda.descriptive_statistics(data))"
   ]
  },
  {
   "cell_type": "markdown",
   "metadata": {},
   "source": [
    "## Univariate Analysis: Distributions"
   ]
  },
  {
   "cell_type": "code",
   "execution_count": null,
   "metadata": {},
   "outputs": [],
   "source": [
    "eda.plot_histograms(data, ['TotalPremium', 'TotalClaims', 'CustomValueEstimate'])\n",
    "eda.plot_bar_chart(data, 'Province')\n",
    "eda.plot_bar_chart(data, 'VehicleType')\n",
    "eda.plot_bar_chart(data, 'Gender')"
   ]
  },
  {
   "cell_type": "markdown",
   "metadata": {},
   "source": [
    "## Bivariate/Multivariate Analysis: Correlations and Trends"
   ]
  },
  {
   "cell_type": "code",
   "execution_count": null,
   "metadata": {},
   "outputs": [],
   "source": [
    "# Check if 'ZipCode' exists in the DataFrame before using it as hue\n",
    "if 'ZipCode' in data.columns:\n",
    "    eda.plot_scatter(data, 'TotalPremium', 'TotalClaims', hue='ZipCode')\n",
    "else:\n",
    "    eda.plot_scatter(data, 'TotalPremium', 'TotalClaims')\n",
    "\n",
    "eda.plot_correlation_matrix(data)"
   ]
  },
  {
   "cell_type": "markdown",
   "metadata": {},
   "source": [
    "## Outlier Detection"
   ]
  },
  {
   "cell_type": "code",
   "execution_count": null,
   "metadata": {},
   "outputs": [],
   "source": [
    "eda.plot_boxplot(data, 'TotalClaims')\n",
    "eda.plot_boxplot(data, 'CustomValueEstimate')"
   ]
  },
  {
   "cell_type": "markdown",
   "metadata": {},
   "source": [
    "## Creative Plots: Key Insights"
   ]
  },
  {
   "cell_type": "code",
   "execution_count": null,
   "metadata": {},
   "outputs": [],
   "source": [
    "eda.plot_loss_ratio_by_group(data, 'Province')\n",
    "eda.plot_loss_ratio_by_group(data, 'VehicleType')\n",
    "eda.plot_loss_ratio_by_group(data, 'Gender')"
   ]
  },
  {
   "cell_type": "markdown",
   "metadata": {},
   "source": [
    "# Task 3: Hypothesis Testing on Risk Drivers\n",
    "This section statistically validates or rejects key hypotheses about risk drivers using claim frequency, claim severity, and margin."
   ]
  },
  {
   "cell_type": "markdown",
   "metadata": {},
   "source": [
    "## Metrics Calculation\n",
    "We define:\n",
    "- **Claim Frequency**: Proportion of policies with at least one claim.\n",
    "- **Claim Severity**: Average claim amount, given a claim occurred.\n",
    "- **Margin**: TotalPremium - TotalClaims."
   ]
  },
  {
   "cell_type": "markdown",
   "metadata": {},
   "source": [
    "## Hypothesis 1: No risk differences across provinces\n",
    "H₀: There are no risk differences across provinces."
   ]
  },
  {
   "cell_type": "code",
   "execution_count": null,
   "metadata": {},
   "outputs": [],
   "source": [
    "# Choose two provinces for A/B test (e.g., the two largest by count)\n",
    "province_counts = data['Province'].value_counts()\n",
    "province_a, province_b = province_counts.index[:2]\n",
    "\n",
    "# Claim Frequency (Chi-squared test)\n",
    "chi2, p_freq = eda.chi2_test_groups(data, 'Province', 'TotalClaims', province_a, province_b)\n",
    "print(f\"Chi-squared test for claim frequency between {province_a} and {province_b}: p-value = {p_freq:.4f}\")\n",
    "\n",
    "# Claim Severity (t-test)\n",
    "t_stat, p_sev = eda.t_test_groups(data[data['TotalClaims'] > 0], 'Province', 'TotalClaims', province_a, province_b)\n",
    "print(f\"T-test for claim severity between {province_a} and {province_b}: p-value = {p_sev:.4f}\")"
   ]
  },
  {
   "cell_type": "markdown",
   "metadata": {},
   "source": [
    "## Hypothesis 2: No risk differences between postal codes\n",
    "H₀: There are no risk differences between postal codes.\n",
    "\n",
    "# Choose two postal codes for A/B test (e.g., the two largest by count)\n",
    "postal_counts = data['PostalCode'].value_counts()\n",
    "postal_a, postal_b = postal_counts.index[:2]\n",
    "\n",
    "# Claim Frequency (Chi-squared test)\n",
    "chi2, p_freq_postal = eda.chi2_test_groups(data, 'PostalCode', 'TotalClaims', postal_a, postal_b)\n",
    "print(f\"Chi-squared test for claim frequency between {postal_a} and {postal_b}: p-value = {p_freq_postal:.4f}\")\n",
    "\n",
    "# Claim Severity (t-test)\n",
    "t_stat, p_sev_postal = eda.t_test_groups(data[data['TotalClaims'] > 0], 'PostalCode', 'TotalClaims', postal_a, postal_b)\n",
    "print(f\"T-test for claim severity between {postal_a} and {postal_b}: p-value = {p_sev_postal:.4f}\")"
   ]
  },
  {
   "cell_type": "code",
   "execution_count": null,
   "metadata": {},
   "outputs": [],
   "source": [
    "# Choose two zip codes for A/B test (e.g., the two largest by count)\n",
    "zip_counts = data['PostalCode'].value_counts()\n",
    "zip_a, zip_b = zip_counts.index[:2]\n",
    "\n",
    "# Claim Frequency (Chi-squared test)\n",
    "chi2, p_freq_zip = eda.chi2_test_groups(data, 'PostalCode', 'TotalClaims', zip_a, zip_b)\n",
    "print(f\"Chi-squared test for claim frequency between {zip_a} and {zip_b}: p-value = {p_freq_zip:.4f}\")\n",
    "\n",
    "# Claim Severity (t-test)\n",
    "t_stat, p_sev_zip = eda.t_test_groups(data[data['TotalClaims'] > 0], 'PostalCode', 'TotalClaims', zip_a, zip_b)\n",
    "print(f\"T-test for claim severity between {zip_a} and {zip_b}: p-value = {p_sev_zip:.4f}\")\n",
    "\n",
    "# Margin (t-test)\n",
    "margin_a = data[data['PostalCode'] == zip_a]\n",
    "margin_b = data[data['PostalCode'] == zip_b]\n",
    "t_stat, p_margin = stats.ttest_ind(\n",
    "    margin_a['TotalPremium'] - margin_a['TotalClaims'],\n",
    "    margin_b['TotalPremium'] - margin_b['TotalClaims'],\n",
    "    nan_policy='omit'\n",
    ")\n",
    "print(f\"T-test for margin between {zip_a} and {zip_b}: p-value = {p_margin:.4f}\")"
   ]
  },
  {
   "cell_type": "markdown",
   "metadata": {},
   "source": [
    "## Hypothesis 3: No significant margin (profit) difference between zip codes\n",
    "H₀: There are no significant margin (profit) differences between zip codes."
   ]
  },
  {
   "cell_type": "markdown",
   "metadata": {},
   "source": [
    "## Hypothesis 4: No significant risk difference between Women and Men\n",
    "H₀: There are not significant risk differences between Women and Men."
   ]
  },
  {
   "cell_type": "code",
   "execution_count": null,
   "metadata": {},
   "outputs": [],
   "source": [
    "# Claim Frequency (Chi-squared test)\n",
    "chi2, p_freq_gender = eda.chi2_test_groups(data, 'Gender', 'TotalClaims', 'Female', 'Male')\n",
    "print(f\"Chi-squared test for claim frequency between Female and Male: p-value = {p_freq_gender:.4f}\")\n",
    "\n",
    "# Claim Severity (t-test)\n",
    "t_stat, p_sev_gender = eda.t_test_groups(data[data['TotalClaims'] > 0], 'Gender', 'TotalClaims', 'Female', 'Male')\n",
    "print(f\"T-test for claim severity between Female and Male: p-value = {p_sev_gender:.4f}\")"
   ]
  },
  {
   "cell_type": "markdown",
   "metadata": {},
   "source": [
    "## Interpretation & Business Recommendation\n",
    "For each hypothesis, if p-value < 0.05, reject the null hypothesis and provide a business interpretation.\n",
    "\n",
    "Example: \"We reject the null hypothesis for provinces (p < 0.01). Specifically, Province A exhibits a higher loss ratio than Province B, suggesting a regional risk adjustment to our premiums may be warranted.\""
   ]
  }
 ],
 "metadata": {
  "kernelspec": {
   "display_name": "myenv",
   "language": "python",
   "name": "python3"
  },
  "language_info": {
   "codemirror_mode": {
    "name": "ipython",
    "version": 3
   },
   "file_extension": ".py",
   "mimetype": "text/x-python",
   "name": "python",
   "nbconvert_exporter": "python",
   "pygments_lexer": "ipython3",
   "version": "3.13.4"
  }
 },
 "nbformat": 4,
 "nbformat_minor": 4
}
